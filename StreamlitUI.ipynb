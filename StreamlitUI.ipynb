{
 "cells": [
  {
   "cell_type": "code",
   "execution_count": 7,
   "metadata": {},
   "outputs": [],
   "source": [
    "#streamlist Ui"
   ]
  },
  {
   "cell_type": "code",
   "execution_count": 1,
   "metadata": {},
   "outputs": [],
   "source": [
    "\n"
   ]
  },
  {
   "cell_type": "code",
   "execution_count": 3,
   "metadata": {},
   "outputs": [],
   "source": [
    "import streamlit as st\n",
    "from streamlit.logger import get_logger\n",
    "import pandas as pd\n",
    "st.set_page_config(\n",
    "        page_title=\"Enhancement Request AI Assitent\",\n",
    "        layout=\"wide\"\n",
    "\n",
    "\n",
    "        \n",
    "    )\n",
    "st.header(\"Ask about GPT about ERs\",divider='rainbow')\n",
    "\n",
    "st.write('Step 1: Select the topics you are interested')\n",
    "options = st.multiselect(\n",
    "    \"What topics do you want to ask about\",\n",
    "    ['AI',\n",
    " 'Citation',\n",
    " 'API_endpoints',\n",
    " 'Authentication',\n",
    " 'Dashboard',\n",
    " 'Internationalization',\n",
    " 'RTAC',\n",
    " 'Customization ',\n",
    " 'Custom_link',\n",
    " 'Fulltext',\n",
    " 'Result_list',\n",
    " 'Search',\n",
    " 'Integration',\n",
    " 'Filters',\n",
    " 'Export',\n",
    " 'Folder',\n",
    " 'UX'])\n",
    "\n",
    "st.write('Step 2: Gather Er based on your topic')\n"
   ]
  }
 ],
 "metadata": {
  "kernelspec": {
   "display_name": ".venv",
   "language": "python",
   "name": "python3"
  },
  "language_info": {
   "codemirror_mode": {
    "name": "ipython",
    "version": 3
   },
   "file_extension": ".py",
   "mimetype": "text/x-python",
   "name": "python",
   "nbconvert_exporter": "python",
   "pygments_lexer": "ipython3",
   "version": "3.10.13"
  }
 },
 "nbformat": 4,
 "nbformat_minor": 2
}
